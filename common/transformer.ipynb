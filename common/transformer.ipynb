{
 "cells": [
  {
   "cell_type": "markdown",
   "metadata": {
    "collapsed": false,
    "pycharm": {
     "name": "#%% md\n"
    }
   },
   "source": [
    "# Create and Train our Transformer"
   ]
  },
  {
   "cell_type": "markdown",
   "metadata": {
    "collapsed": false,
    "pycharm": {
     "name": "#%% md\n"
    }
   },
   "source": [
    "### Load the Dataset"
   ]
  },
  {
   "cell_type": "code",
   "execution_count": 3,
   "metadata": {
    "collapsed": false,
    "pycharm": {
     "name": "#%%\n"
    }
   },
   "outputs": [
    {
     "name": "stderr",
     "output_type": "stream",
     "text": [
      "Using the latest cached version of the module from C:\\Users\\Will Sumerfield\\.cache\\huggingface\\modules\\datasets_modules\\datasets\\PokedexDataset\\3aa69cafe54b66fd5280fcf12671ebf466fe770853e5254944dd13cefd7a6698 (last modified on Thu Feb 24 10:36:35 2022) since it couldn't be found locally at dataset/PokedexDataset.py\\PokedexDataset.py or remotely (FileNotFoundError).\n",
      "Reusing dataset pokedex_dataset (C:\\Users\\Will Sumerfield\\.cache\\huggingface\\datasets\\pokedex_dataset\\plain_text\\1.0.0\\3aa69cafe54b66fd5280fcf12671ebf466fe770853e5254944dd13cefd7a6698)\n"
     ]
    }
   ],
   "source": [
    "from datasets import load_dataset\n",
    "\n",
    "\n",
    "# Load the dataset\n",
    "train_dataset, test_dataset = load_dataset(\"dataset/PokedexDataset.py\", split=[\"train\", \"test\"])"
   ]
  },
  {
   "cell_type": "markdown",
   "metadata": {
    "collapsed": false,
    "pycharm": {
     "name": "#%% md\n"
    }
   },
   "source": [
    "### Tokenize the Dataset"
   ]
  },
  {
   "cell_type": "code",
   "execution_count": 4,
   "metadata": {
    "collapsed": false,
    "pycharm": {
     "name": "#%%\n"
    }
   },
   "outputs": [
    {
     "data": {
      "application/vnd.jupyter.widget-view+json": {
       "model_id": "55bc290149524b16b171334a8da44220",
       "version_major": 2,
       "version_minor": 0
      },
      "text/plain": [
       "HBox(children=(IntProgress(value=0, max=4), HTML(value='')))"
      ]
     },
     "metadata": {},
     "output_type": "display_data"
    },
    {
     "name": "stdout",
     "output_type": "stream",
     "text": [
      "\n"
     ]
    },
    {
     "data": {
      "application/vnd.jupyter.widget-view+json": {
       "model_id": "232c0c5facd3411a9d08daa9889a7ccc",
       "version_major": 2,
       "version_minor": 0
      },
      "text/plain": [
       "HBox(children=(IntProgress(value=0, max=1), HTML(value='')))"
      ]
     },
     "metadata": {},
     "output_type": "display_data"
    },
    {
     "name": "stdout",
     "output_type": "stream",
     "text": [
      "\n"
     ]
    }
   ],
   "source": [
    "from transformers import AutoTokenizer\n",
    "\n",
    "\n",
    "# Create the tokenizer instance\n",
    "tokenizer = AutoTokenizer.from_pretrained(\"distilgpt2\")\n",
    "\n",
    "# Set the padding token to use the end of sentence token\n",
    "tokenizer.pad_token = tokenizer.eos_token\n",
    "\n",
    "\n",
    "def tokenize_data(data):\n",
    "    \"\"\"This function maps our dataset to a tokenized dataset\"\"\"\n",
    "    tokenized_data = tokenizer(data['text'], max_length=55, padding='max_length', truncation=True)\n",
    "    tokenized_data['labels'] = tokenized_data['input_ids']\n",
    "    return tokenized_data\n",
    "\n",
    "# Tokenize our datasets\n",
    "tokenized_train_dataset = train_dataset.map(tokenize_data, batched=True)\n",
    "tokenized_test_dataset = test_dataset.map(tokenize_data, batched=True)"
   ]
  },
  {
   "cell_type": "markdown",
   "metadata": {
    "collapsed": false,
    "pycharm": {
     "name": "#%% md\n"
    }
   },
   "source": [
    "### Import our Model"
   ]
  },
  {
   "cell_type": "code",
   "execution_count": 77,
   "metadata": {
    "collapsed": false,
    "pycharm": {
     "name": "#%%\n"
    }
   },
   "outputs": [
    {
     "data": {
      "text/plain": [
       "Embedding(50258, 768)"
      ]
     },
     "execution_count": 77,
     "metadata": {},
     "output_type": "execute_result"
    }
   ],
   "source": [
    "from transformers import AutoModelForCausalLM\n",
    "import torch\n",
    "\n",
    "\n",
    "# Get a pretrained instance of the model\n",
    "model = AutoModelForCausalLM.from_pretrained(\"distilgpt2\").to('cuda:0')\n",
    "\n",
    "# Add the new 'pokename' token to our model\n",
    "tokenizer.add_tokens([\"pokename\"])\n",
    "\n",
    "# Resize the model embeddings\n",
    "model.resize_token_embeddings(len(tokenizer))"
   ]
  },
  {
   "cell_type": "markdown",
   "metadata": {
    "collapsed": false,
    "pycharm": {
     "name": "#%% md\n"
    }
   },
   "source": [
    "### Train the Model"
   ]
  },
  {
   "cell_type": "code",
   "execution_count": 78,
   "metadata": {
    "collapsed": false,
    "pycharm": {
     "name": "#%%\n"
    }
   },
   "outputs": [],
   "source": [
    "from transformers import TrainingArguments\n",
    "from transformers import Trainer\n",
    "\n",
    "\n",
    "# Set the parameters for the trainer\n",
    "training_args = TrainingArguments(\"model_checkpoints\", per_device_train_batch_size=2, evaluation_strategy=\"epoch\")\n",
    "\n",
    "# Create a trainer with the provided arguments\n",
    "trainer = Trainer(model=model,\n",
    "                  args=training_args,\n",
    "                  train_dataset=tokenized_train_dataset,\n",
    "                  eval_dataset=tokenized_test_dataset\n",
    "                  )"
   ]
  },
  {
   "cell_type": "code",
   "execution_count": 79,
   "metadata": {
    "collapsed": false,
    "pycharm": {
     "name": "#%%\n"
    }
   },
   "outputs": [
    {
     "data": {
      "text/html": [
       "\n",
       "    <div>\n",
       "      \n",
       "      <progress value='2' max='4608' style='width:300px; height:20px; vertical-align: middle;'></progress>\n",
       "      [   2/4608 : < :, Epoch 0.00/3]\n",
       "    </div>\n",
       "    <table border=\"1\" class=\"dataframe\">\n",
       "  <thead>\n",
       "    <tr style=\"text-align: left;\">\n",
       "      <th>Epoch</th>\n",
       "      <th>Training Loss</th>\n",
       "      <th>Validation Loss</th>\n",
       "    </tr>\n",
       "  </thead>\n",
       "  <tbody>\n",
       "  </tbody>\n",
       "</table><p>"
      ],
      "text/plain": [
       "<IPython.core.display.HTML object>"
      ]
     },
     "metadata": {},
     "output_type": "display_data"
    },
    {
     "data": {
      "text/plain": [
       "TrainOutput(global_step=4608, training_loss=1.5335284570852916, metrics={'train_runtime': 396.4695, 'train_samples_per_second': 11.623, 'total_flos': 5838783160320.0, 'epoch': 3.0})"
      ]
     },
     "execution_count": 79,
     "metadata": {},
     "output_type": "execute_result"
    }
   ],
   "source": [
    "# Train the Model\n",
    "trainer.train()"
   ]
  },
  {
   "cell_type": "code",
   "execution_count": 80,
   "metadata": {
    "collapsed": false,
    "pycharm": {
     "name": "#%%\n"
    }
   },
   "outputs": [],
   "source": [
    "# Save the model\n",
    "model.save_pretrained(\"model\")"
   ]
  },
  {
   "cell_type": "code",
   "execution_count": 81,
   "metadata": {
    "collapsed": false,
    "pycharm": {
     "name": "#%%\n"
    }
   },
   "outputs": [],
   "source": [
    "import shutil\n",
    "\n",
    "\n",
    "# Delete the checkpoints\n",
    "shutil.rmtree('model_checkpoints')"
   ]
  },
  {
   "cell_type": "code",
   "execution_count": 20,
   "metadata": {
    "collapsed": false,
    "pycharm": {
     "name": "#%%\n"
    }
   },
   "outputs": [
    {
     "name": "stderr",
     "output_type": "stream",
     "text": [
      "Setting `pad_token_id` to `eos_token_id`:50256 for open-end generation.\n"
     ]
    },
    {
     "name": "stdout",
     "output_type": "stream",
     "text": [
      "tensor([[   79,  1134, 32323]], device='cuda:0')\n",
      "pikachu: I'm so excited for all of you guys who are excited for this story. I want to go to school and have some fun. I'm hoping to be in the best shape possible this season and will go down a rabbit path\n"
     ]
    }
   ],
   "source": [
    "from transformers import pipeline, AutoModelForCausalLM\n",
    "\n",
    "model = AutoModelForCausalLM.from_pretrained('distilgpt2')\n",
    "\n",
    "# Create the text generator\n",
    "generator = pipeline('text-generation', tokenizer=tokenizer, device=0, model=model)\n",
    "\n",
    "input_ids = tokenizer.encode('pikachu', return_tensors='pt').to('cuda:0')\n",
    "greedy_output = model.generate(input_ids, max_length=50)\n",
    "print(tokenizer.decode(greedy_output[0], skip_special_tokens=True))\n",
    "\n",
    "# Generate the entry\n",
    "#for i in range(10):\n",
    "    #print(generator(\"< type=fire bird > * This is fine.\", max_length=30, num_return_sequences=1, pad_token_id=50256)[0]['generated_text'])"
   ]
  },
  {
   "cell_type": "code",
   "execution_count": null,
   "metadata": {
    "collapsed": false,
    "pycharm": {
     "name": "#%%\n"
    }
   },
   "outputs": [],
   "source": []
  }
 ],
 "metadata": {
  "kernelspec": {
   "display_name": "Python 3",
   "language": "python",
   "name": "python3"
  },
  "language_info": {
   "codemirror_mode": {
    "name": "ipython",
    "version": 2
   },
   "file_extension": ".py",
   "mimetype": "text/x-python",
   "name": "python",
   "nbconvert_exporter": "python",
   "pygments_lexer": "ipython2",
   "version": "3.7.11"
  }
 },
 "nbformat": 4,
 "nbformat_minor": 0
}

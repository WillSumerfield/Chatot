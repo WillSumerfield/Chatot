{
 "cells": [
  {
   "cell_type": "code",
   "execution_count": 13,
   "metadata": {},
   "outputs": [],
   "source": [
    "import json"
   ]
  },
  {
   "cell_type": "markdown",
   "metadata": {},
   "source": [
    "## Create dictionaries from JSON files"
   ]
  },
  {
   "cell_type": "code",
   "execution_count": 14,
   "metadata": {},
   "outputs": [
    {
     "data": {
      "text/plain": [
       "<function TextIOWrapper.close()>"
      ]
     },
     "execution_count": 14,
     "metadata": {},
     "output_type": "execute_result"
    }
   ],
   "source": [
    "f = open('pokedex_entries.json')\n",
    "pokedex_entries = json.load(f)\n",
    "f.close\n",
    "\n",
    "f = open('pokemon_types.json')\n",
    "pokemon_types = json.load(f)\n",
    "f.close\n",
    "\n",
    "f = open('pokemon_class.json')\n",
    "pokemon_class = json.load(f)\n",
    "f.close"
   ]
  },
  {
   "cell_type": "code",
   "execution_count": 15,
   "metadata": {},
   "outputs": [],
   "source": [
    "def craft_input(entry, p_type, p_class):\n",
    "    return (\"< type=\" + p_type + \" \" + p_class + \" > * \" + entry)"
   ]
  },
  {
   "cell_type": "markdown",
   "metadata": {},
   "source": [
    "## Create new dictionary in form of < type=typename classname > * entry where < is a meta-start token, > is a meta-end token, and * is a text start token. (There is no text end token because we will use periods to end generated text.)"
   ]
  },
  {
   "cell_type": "code",
   "execution_count": 16,
   "metadata": {},
   "outputs": [],
   "source": [
    "# Final dictionary\n",
    "input = dict()\n",
    "\n",
    "# Loop through every pokemon\n",
    "for p_entry, p_type, p_class in list(zip(pokedex_entries, pokemon_types, pokemon_class)):\n",
    "    input_entry = list()\n",
    "\n",
    "    # Loop through every pokedex entry to craft input\n",
    "    for entry in pokedex_entries[p_entry]:\n",
    "        new_input = craft_input(entry, pokemon_types[p_type][0], pokemon_class[p_class])\n",
    "        input_entry.append(new_input)\n",
    "\n",
    "    # Put current pokemon entries into final input dictionary\n",
    "    input[p_entry] = input_entry"
   ]
  },
  {
   "cell_type": "code",
   "execution_count": 17,
   "metadata": {},
   "outputs": [],
   "source": [
    "# Write the dictionary to the file\n",
    "with open(\"inputs.json\", \"w\", encoding='utf-8') as f:\n",
    "    json.dump(input, f, indent=4, sort_keys=True)"
   ]
  }
 ],
 "metadata": {
  "interpreter": {
   "hash": "6e458013d4848352eab0fe2932e94a547ae8f30a0495a6594abf4ea07415e147"
  },
  "kernelspec": {
   "display_name": "Python 3.7.11 ('myenv')",
   "language": "python",
   "name": "python3"
  },
  "language_info": {
   "codemirror_mode": {
    "name": "ipython",
    "version": 3
   },
   "file_extension": ".py",
   "mimetype": "text/x-python",
   "name": "python",
   "nbconvert_exporter": "python",
   "pygments_lexer": "ipython3",
   "version": "3.7.11"
  },
  "orig_nbformat": 4
 },
 "nbformat": 4,
 "nbformat_minor": 2
}

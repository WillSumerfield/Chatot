{
 "cells": [
  {
   "cell_type": "markdown",
   "source": [
    "# A Pokedex Entry Webscraper"
   ],
   "metadata": {
    "collapsed": false,
    "pycharm": {
     "name": "#%% md\n"
    }
   }
  },
  {
   "cell_type": "markdown",
   "source": [
    "### Step 1 - Retrieve the HTML"
   ],
   "metadata": {
    "collapsed": false,
    "pycharm": {
     "name": "#%% md\n"
    }
   }
  },
  {
   "cell_type": "code",
   "execution_count": 373,
   "outputs": [],
   "source": [
    "import json\n",
    "from urllib.request import urlopen, Request\n",
    "\n",
    "def get_html(url):\n",
    "\n",
    "    # Request access to the page\n",
    "    request = Request(url, headers={'User-Agent': 'Mozilla/5.0'})\n",
    "\n",
    "    # Open the page\n",
    "    page = urlopen(request)\n",
    "\n",
    "    # Read the HTML\n",
    "    return page.read().decode(\"utf-8\")"
   ],
   "metadata": {
    "collapsed": false,
    "pycharm": {
     "name": "#%%\n"
    }
   }
  },
  {
   "cell_type": "markdown",
   "source": [
    "### Step 2 - Retrieve the Pokedex Entries"
   ],
   "metadata": {
    "collapsed": false
   }
  },
  {
   "cell_type": "code",
   "execution_count": 374,
   "outputs": [],
   "source": [
    "import re\n",
    "\n",
    "def get_pokedex_entries(html):\n",
    "\n",
    "    # Find the table of pokedex entries\n",
    "    html = re.search(\"<tbody>(.*)</tbody>\", html, re.IGNORECASE).group(1)\n",
    "\n",
    "    # Remove the game name\n",
    "    html = re.sub(\"<th>.*?</th>\", \"\", html)\n",
    "\n",
    "    # Find all entries\n",
    "    html = re.findall(\"<tr>\\s*<td class=\\\"cell-med-text\\\">(.*?)</td>\\s*</tr>\", html)\n",
    "\n",
    "    # Create a list of entries\n",
    "    entries = []\n",
    "\n",
    "    # For every entry...\n",
    "    for entry in html:\n",
    "\n",
    "        # Remove fully capitalized pokemon\n",
    "        entry = entry.replace(\"POKéMON\", \"Pokemon\")\n",
    "\n",
    "        # Replace the fancy e's\n",
    "        entry = re.sub(\"é\", \"e\", entry)\n",
    "\n",
    "        # Remove all non-alphanumeric chars\n",
    "        entry = re.sub(\"[^a-zA-Z0-9 -]\", \"\", entry)\n",
    "\n",
    "        # Append the entry to the list\n",
    "        entries.append(entry)\n",
    "\n",
    "    # Return the entries without the whitespace\n",
    "    return entries[:-1]"
   ],
   "metadata": {
    "collapsed": false,
    "pycharm": {
     "name": "#%%\n"
    }
   }
  },
  {
   "cell_type": "markdown",
   "source": [
    "### Step 3 - Store in a JSON File"
   ],
   "metadata": {
    "collapsed": false
   }
  },
  {
   "cell_type": "code",
   "execution_count": 375,
   "outputs": [],
   "source": [
    "def record_entries(pokemon, entries):\n",
    "\n",
    "    # Store the entries in the dictionary\n",
    "    pokemon_dictionary[pokemon] = entries"
   ],
   "metadata": {
    "collapsed": false,
    "pycharm": {
     "name": "#%%\n"
    }
   }
  },
  {
   "cell_type": "markdown",
   "source": [
    "### Step 4 - Find the Next Pokemon"
   ],
   "metadata": {
    "collapsed": false
   }
  },
  {
   "cell_type": "code",
   "execution_count": 376,
   "outputs": [],
   "source": [
    "def get_next_pokemon(html):\n",
    "\n",
    "    # Find the next URL\n",
    "    pokemon = re.search(\"<a rel=\\\"next\\\" class=\\\"entity-nav-next\\\" href=\\\".*?\\\">\", html, re.IGNORECASE)\n",
    "\n",
    "    # Turn the URl into a string\n",
    "    pokemon = pokemon.group()\n",
    "\n",
    "    # Obtain only the pokemon\n",
    "    pokemon = re.sub(\"<a rel=\\\"next\\\" class=\\\"entity-nav-next\\\" href=\\\"/pokedex/\", \"\", pokemon)\n",
    "    pokemon = re.sub(\"\\\">\", \"\", pokemon)\n",
    "\n",
    "    # Return the pokemon name\n",
    "    return pokemon"
   ],
   "metadata": {
    "collapsed": false,
    "pycharm": {
     "name": "#%%\n"
    }
   }
  },
  {
   "cell_type": "markdown",
   "source": [
    "### Step 5 - Scrape the Data of all 151 Pokemon"
   ],
   "metadata": {
    "collapsed": false
   }
  },
  {
   "cell_type": "code",
   "execution_count": 377,
   "outputs": [
    {
     "name": "stdout",
     "output_type": "stream",
     "text": [
      "Done!\n"
     ]
    }
   ],
   "source": [
    "# Find the base URL\n",
    "base_url = \"https://pokemondb.net/pokedex/\"\n",
    "\n",
    "# Find the first pokemon\n",
    "pokemon = \"bulbasaur\"\n",
    "\n",
    "# Create a dictionary of entries for each pokemon\n",
    "pokemon_dictionary = dict()\n",
    "\n",
    "# For all 151 Pokemon...\n",
    "for i in range(1):\n",
    "\n",
    "    # Get the HTML\n",
    "    html = get_html(base_url + pokemon)\n",
    "\n",
    "    # Get the pokedex entries\n",
    "    entries = get_pokedex_entries(html)\n",
    "\n",
    "    # Store the pokemon's entries in the file\n",
    "    record_entries(pokemon, entries)\n",
    "\n",
    "    # Find the next pokemon\n",
    "    pokemon = get_next_pokemon(html)\n",
    "\n",
    "# Write the dictionary to the file\n",
    "with open(\"pokedex_entries.json\", \"w\", encoding='utf-8') as f:\n",
    "    json.dump(pokemon_dictionary, f)\n",
    "\n",
    "# Report that the process is complete!\n",
    "print(\"Done!\")"
   ],
   "metadata": {
    "collapsed": false,
    "pycharm": {
     "name": "#%%\n"
    }
   }
  }
 ],
 "metadata": {
  "kernelspec": {
   "display_name": "Python 3",
   "language": "python",
   "name": "python3"
  },
  "language_info": {
   "codemirror_mode": {
    "name": "ipython",
    "version": 2
   },
   "file_extension": ".py",
   "mimetype": "text/x-python",
   "name": "python",
   "nbconvert_exporter": "python",
   "pygments_lexer": "ipython2",
   "version": "2.7.6"
  }
 },
 "nbformat": 4,
 "nbformat_minor": 0
}
{
 "cells": [
  {
   "cell_type": "markdown",
   "source": [
    "# Compile the Input Data"
   ],
   "metadata": {
    "collapsed": false,
    "pycharm": {
     "name": "#%% md\n"
    }
   }
  },
  {
   "cell_type": "code",
   "execution_count": 31,
   "metadata": {
    "pycharm": {
     "name": "#%%\n"
    }
   },
   "outputs": [],
   "source": [
    "import json\n",
    "import random"
   ]
  },
  {
   "cell_type": "markdown",
   "metadata": {},
   "source": [
    "## Create Dictionaries from JSON files\n",
    "\n",
    "Each entry string in the dictionary takes the form:\n",
    "\n",
    "#### < type=typename classname > * entry\n",
    "\n",
    "< is the meta-start token\n",
    "\\> is the meta-end token\n",
    "\\* is the text start token"
   ]
  },
  {
   "cell_type": "code",
   "execution_count": 32,
   "metadata": {},
   "outputs": [],
   "source": [
    "f = open('../data_files/pokedex_entries.json')\n",
    "pokedex_entries = json.load(f)\n",
    "f.close()\n",
    "\n",
    "f = open('../data_files/pokemon_types.json')\n",
    "pokemon_types = json.load(f)\n",
    "f.close()\n",
    "\n",
    "f = open('../data_files/pokemon_class.json')\n",
    "pokemon_class = json.load(f)\n",
    "f.close()"
   ]
  },
  {
   "cell_type": "code",
   "execution_count": 33,
   "metadata": {},
   "outputs": [],
   "source": [
    "def compile_input(entry, p_type, p_class):\n",
    "    return \"< type=\" + p_type + \" \" + p_class + \" > * \" + entry"
   ]
  },
  {
   "cell_type": "code",
   "execution_count": 34,
   "metadata": {},
   "outputs": [],
   "source": [
    "# The list of inputs\n",
    "input = list()\n",
    "\n",
    "# Loop through every pokemon\n",
    "for p_entry, p_type, p_class in list(zip(pokedex_entries, pokemon_types, pokemon_class)):\n",
    "\n",
    "    # For every entry, create an input from each entry\n",
    "    for entry in pokedex_entries[p_entry]:\n",
    "        new_input = compile_input(entry, pokemon_types[p_type][0], pokemon_class[p_class])\n",
    "        input.append(new_input)"
   ]
  },
  {
   "cell_type": "markdown",
   "source": [
    "### Create a Test-Train Split"
   ],
   "metadata": {
    "collapsed": false,
    "pycharm": {
     "name": "#%% md\n"
    }
   }
  },
  {
   "cell_type": "code",
   "execution_count": 35,
   "outputs": [],
   "source": [
    "# Shuffle the Data\n",
    "random.shuffle(input)\n",
    "\n",
    "# Find the index to split the data at\n",
    "split_index = round(len(input) * 0.8)\n",
    "\n",
    "# Split the input into testing and training splits\n",
    "train_data = input[:split_index]\n",
    "test_data =  input[split_index:]"
   ],
   "metadata": {
    "collapsed": false,
    "pycharm": {
     "name": "#%%\n"
    }
   }
  },
  {
   "cell_type": "code",
   "execution_count": 36,
   "metadata": {},
   "outputs": [],
   "source": [
    "# Write the dictionaries to files\n",
    "with open(\"../data_files/train_dataset.json\", \"w\", encoding='utf-8') as f:\n",
    "    json.dump(train_data, f, indent=4, sort_keys=True)\n",
    "\n",
    "with open(\"../data_files/test_dataset.json\", \"w\", encoding='utf-8') as f:\n",
    "    json.dump(test_data, f, indent=4, sort_keys=True)"
   ]
  }
 ],
 "metadata": {
  "interpreter": {
   "hash": "6e458013d4848352eab0fe2932e94a547ae8f30a0495a6594abf4ea07415e147"
  },
  "kernelspec": {
   "display_name": "Python 3.7.11 ('myenv')",
   "language": "python",
   "name": "python3"
  },
  "language_info": {
   "codemirror_mode": {
    "name": "ipython",
    "version": 3
   },
   "file_extension": ".py",
   "mimetype": "text/x-python",
   "name": "python",
   "nbconvert_exporter": "python",
   "pygments_lexer": "ipython3",
   "version": "3.7.11"
  },
  "orig_nbformat": 4
 },
 "nbformat": 4,
 "nbformat_minor": 2
}
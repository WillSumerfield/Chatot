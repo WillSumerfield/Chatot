{
 "cells": [
  {
   "cell_type": "markdown",
   "source": [
    "# A Pokekmon Type Webscraper"
   ],
   "metadata": {
    "collapsed": false,
    "pycharm": {
     "name": "#%% md\n"
    }
   }
  },
  {
   "cell_type": "markdown",
   "source": [
    "### Step 1 - Retrieve the HTML"
   ],
   "metadata": {
    "collapsed": false,
    "pycharm": {
     "name": "#%% md\n"
    }
   }
  },
  {
   "cell_type": "code",
   "execution_count": 1,
   "outputs": [],
   "source": [
    "import json\n",
    "from urllib.request import urlopen, Request\n",
    "\n",
    "def get_html(url):\n",
    "\n",
    "    # Request access to the page\n",
    "    request = Request(url, headers={'User-Agent': 'Mozilla/5.0'})\n",
    "\n",
    "    # Open the page\n",
    "    page = urlopen(request)\n",
    "\n",
    "    # Read the HTML\n",
    "    return page.read().decode(\"utf-8\")"
   ],
   "metadata": {
    "collapsed": false,
    "pycharm": {
     "name": "#%%\n"
    }
   }
  },
  {
   "cell_type": "markdown",
   "source": [
    "### Step 2 - Retrieve the Type"
   ],
   "metadata": {
    "collapsed": false
   }
  },
  {
   "cell_type": "code",
   "execution_count": 2,
   "outputs": [],
   "source": [
    "import re\n",
    "\n",
    "def get_pokemon_type(html):\n",
    "\n",
    "    # Find the type container\n",
    "    html = re.search(\"<tr>\\n<th>Type</th>(.*?)</tr>\", html, re.DOTALL).group(1)\n",
    "\n",
    "    # Find all types\n",
    "    html = re.findall(\"<a class=\\\"type-icon type-(.*?)\\\"\", html)\n",
    "\n",
    "    # Create a list of entries\n",
    "    types = []\n",
    "\n",
    "    # For every entry...\n",
    "    for type in html:\n",
    "\n",
    "        # Append the entry to the list\n",
    "        types.append(type)\n",
    "\n",
    "    # Return the entries without the whitespace\n",
    "    return types"
   ],
   "metadata": {
    "collapsed": false,
    "pycharm": {
     "name": "#%%\n"
    }
   }
  },
  {
   "cell_type": "markdown",
   "source": [
    "### Step 3 - Store in a Dictionary"
   ],
   "metadata": {
    "collapsed": false
   }
  },
  {
   "cell_type": "code",
   "execution_count": 3,
   "outputs": [],
   "source": [
    "def record_entries(pokemon, entries):\n",
    "\n",
    "    # Store the entries in the dictionary\n",
    "    pokemon_dictionary[pokemon] = entries"
   ],
   "metadata": {
    "collapsed": false,
    "pycharm": {
     "name": "#%%\n"
    }
   }
  },
  {
   "cell_type": "markdown",
   "source": [
    "### Step 4 - Find the Next Pokemon"
   ],
   "metadata": {
    "collapsed": false
   }
  },
  {
   "cell_type": "code",
   "execution_count": 4,
   "outputs": [],
   "source": [
    "def get_next_pokemon(html):\n",
    "\n",
    "    # Find the next URL\n",
    "    pokemon = re.search(\"<a rel=\\\"next\\\" class=\\\"entity-nav-next\\\" href=\\\".*?\\\">\", html, re.IGNORECASE)\n",
    "\n",
    "    # Turn the URl into a string\n",
    "    pokemon = pokemon.group()\n",
    "\n",
    "    # Obtain only the pokemon\n",
    "    pokemon = re.sub(\"<a rel=\\\"next\\\" class=\\\"entity-nav-next\\\" href=\\\"/pokedex/\", \"\", pokemon)\n",
    "    pokemon = re.sub(\"\\\">\", \"\", pokemon)\n",
    "\n",
    "    # Return the pokemon name\n",
    "    return pokemon"
   ],
   "metadata": {
    "collapsed": false,
    "pycharm": {
     "name": "#%%\n"
    }
   }
  },
  {
   "cell_type": "markdown",
   "source": [
    "### Step 5 - Scrape the Data of all 151 Pokemon"
   ],
   "metadata": {
    "collapsed": false
   }
  },
  {
   "cell_type": "code",
   "execution_count": 5,
   "outputs": [
    {
     "name": "stdout",
     "output_type": "stream",
     "text": [
      "Done!\n"
     ]
    }
   ],
   "source": [
    "# Find the base URL\n",
    "base_url = \"https://pokemondb.net/pokedex/\"\n",
    "\n",
    "# Find the first pokemon\n",
    "pokemon = \"bulbasaur\"\n",
    "\n",
    "# Create a dictionary of entries for each pokemon\n",
    "pokemon_dictionary = dict()\n",
    "\n",
    "# For all 151 Pokemon...\n",
    "for i in range(151):\n",
    "\n",
    "    # Get the HTML\n",
    "    html = get_html(base_url + pokemon)\n",
    "\n",
    "    # Get the pokedex entries\n",
    "    entries = get_pokemon_type(html)\n",
    "\n",
    "    # Store the pokemon's entries in the file\n",
    "    record_entries(pokemon, entries)\n",
    "\n",
    "    # Find the next pokemon\n",
    "    pokemon = get_next_pokemon(html)\n",
    "\n",
    "# Write the dictionary to the file\n",
    "with open(\"../data_files/pokemon_types.json\", \"w\", encoding='utf-8') as f:\n",
    "    json.dump(pokemon_dictionary, f, indent=4, sort_keys=True)\n",
    "\n",
    "# Report that the process is complete!\n",
    "print(\"Done!\")\n"
   ],
   "metadata": {
    "collapsed": false,
    "pycharm": {
     "name": "#%%\n"
    }
   }
  }
 ],
 "metadata": {
  "kernelspec": {
   "display_name": "Python 3",
   "language": "python",
   "name": "python3"
  },
  "language_info": {
   "codemirror_mode": {
    "name": "ipython",
    "version": 2
   },
   "file_extension": ".py",
   "mimetype": "text/x-python",
   "name": "python",
   "nbconvert_exporter": "python",
   "pygments_lexer": "ipython2",
   "version": "2.7.6"
  }
 },
 "nbformat": 4,
 "nbformat_minor": 0
}